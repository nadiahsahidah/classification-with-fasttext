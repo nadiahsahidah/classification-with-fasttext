{
  "nbformat": 4,
  "nbformat_minor": 0,
  "metadata": {
    "colab": {
      "provenance": [],
      "include_colab_link": true
    },
    "kernelspec": {
      "name": "python3",
      "display_name": "Python 3"
    },
    "language_info": {
      "name": "python"
    }
  },
  "cells": [
    {
      "cell_type": "markdown",
      "metadata": {
        "id": "view-in-github",
        "colab_type": "text"
      },
      "source": [
        "<a href=\"https://colab.research.google.com/github/nadiahsahidah/classification-with-fasttext/blob/main/Copy_of_(prototype)_fasttext_implementation.ipynb\" target=\"_parent\"><img src=\"https://colab.research.google.com/assets/colab-badge.svg\" alt=\"Open In Colab\"/></a>"
      ]
    },
    {
      "cell_type": "code",
      "source": [
        "!pip install fasttext"
      ],
      "metadata": {
        "colab": {
          "base_uri": "https://localhost:8080/"
        },
        "id": "qXIllsrzrLGt",
        "outputId": "9b8d9b66-60ec-47c1-a1c7-78734344139c"
      },
      "execution_count": null,
      "outputs": [
        {
          "output_type": "stream",
          "name": "stdout",
          "text": [
            "Collecting fasttext\n",
            "  Downloading fasttext-0.9.2.tar.gz (68 kB)\n",
            "\u001b[?25l     \u001b[90m━━━━━━━━━━━━━━━━━━━━━━━━━━━━━━━━━━━━━━━━\u001b[0m \u001b[32m0.0/68.8 kB\u001b[0m \u001b[31m?\u001b[0m eta \u001b[36m-:--:--\u001b[0m\r\u001b[2K     \u001b[91m━━━━━━━━━━━━━━━━━━━━━━━━━━━━━━━━━━━\u001b[0m\u001b[91m╸\u001b[0m\u001b[90m━━━━\u001b[0m \u001b[32m61.4/68.8 kB\u001b[0m \u001b[31m1.7 MB/s\u001b[0m eta \u001b[36m0:00:01\u001b[0m\r\u001b[2K     \u001b[90m━━━━━━━━━━━━━━━━━━━━━━━━━━━━━━━━━━━━━━━━\u001b[0m \u001b[32m68.8/68.8 kB\u001b[0m \u001b[31m1.6 MB/s\u001b[0m eta \u001b[36m0:00:00\u001b[0m\n",
            "\u001b[?25h  Preparing metadata (setup.py) ... \u001b[?25l\u001b[?25hdone\n",
            "Collecting pybind11>=2.2 (from fasttext)\n",
            "  Using cached pybind11-2.11.1-py3-none-any.whl (227 kB)\n",
            "Requirement already satisfied: setuptools>=0.7.0 in /usr/local/lib/python3.10/dist-packages (from fasttext) (67.7.2)\n",
            "Requirement already satisfied: numpy in /usr/local/lib/python3.10/dist-packages (from fasttext) (1.23.5)\n",
            "Building wheels for collected packages: fasttext\n",
            "  Building wheel for fasttext (setup.py) ... \u001b[?25l\u001b[?25hdone\n",
            "  Created wheel for fasttext: filename=fasttext-0.9.2-cp310-cp310-linux_x86_64.whl size=4199770 sha256=054c3507a9ea5d5d2f0c7ab7db7b27c12468cbc425faf3e8295f549548b7720e\n",
            "  Stored in directory: /root/.cache/pip/wheels/a5/13/75/f811c84a8ab36eedbaef977a6a58a98990e8e0f1967f98f394\n",
            "Successfully built fasttext\n",
            "Installing collected packages: pybind11, fasttext\n",
            "Successfully installed fasttext-0.9.2 pybind11-2.11.1\n"
          ]
        }
      ]
    },
    {
      "cell_type": "code",
      "execution_count": null,
      "metadata": {
        "id": "RtgMuAwjNcTg"
      },
      "outputs": [],
      "source": [
        "from google.colab import drive\n",
        "import random\n",
        "import numpy as np\n",
        "from sklearn.model_selection import train_test_split\n",
        "import fasttext"
      ]
    },
    {
      "cell_type": "code",
      "source": [
        "drive.mount('/content/drive')"
      ],
      "metadata": {
        "colab": {
          "base_uri": "https://localhost:8080/"
        },
        "id": "wAy-WPzLO2xw",
        "outputId": "a4cf99f3-bf1f-4212-e32a-24bdc1333185"
      },
      "execution_count": null,
      "outputs": [
        {
          "output_type": "stream",
          "name": "stdout",
          "text": [
            "Mounted at /content/drive\n"
          ]
        }
      ]
    },
    {
      "cell_type": "code",
      "source": [
        "!ls '/content/drive/MyDrive/fasttext_dataset'"
      ],
      "metadata": {
        "colab": {
          "base_uri": "https://localhost:8080/"
        },
        "id": "yc_GXu8YQ5Fu",
        "outputId": "da98bff0-b9f5-4dd8-bb10-152071a6d84d"
      },
      "execution_count": null,
      "outputs": [
        {
          "output_type": "stream",
          "name": "stdout",
          "text": [
            "dataset_1000.txt\n"
          ]
        }
      ]
    },
    {
      "cell_type": "markdown",
      "source": [
        "# Persiapan"
      ],
      "metadata": {
        "id": "bdisfXa2n0SM"
      }
    },
    {
      "cell_type": "code",
      "source": [
        "def initialization():\n",
        "  # Parameter\n",
        "  SEED = 27\n",
        "  PATH = '/content/drive/MyDrive/fasttext_dataset/dataset_1000.txt'\n",
        "\n",
        "  # Read file dataset\n",
        "  with open(PATH, 'r') as f:\n",
        "    dataset = f.readlines()\n",
        "\n",
        "  # Save dataset into list\n",
        "  dataset = [dt.strip() for dt in dataset]\n",
        "\n",
        "  # Shuffle dataset\n",
        "  random.seed(SEED)\n",
        "  random.shuffle(dataset)\n",
        "\n",
        "  # Split label and content\n",
        "  labels = []\n",
        "  contents = []\n",
        "  for dt in dataset:\n",
        "    parts = dt.split(' ', 1)\n",
        "    label = parts[0]\n",
        "    content = parts[1]\n",
        "    labels.append(label)\n",
        "    contents.append(content)\n",
        "\n",
        "  return labels, contents"
      ],
      "metadata": {
        "id": "psXqAfAIVhad"
      },
      "execution_count": null,
      "outputs": []
    },
    {
      "cell_type": "markdown",
      "source": [
        "# Praproses"
      ],
      "metadata": {
        "id": "DoH3xlvSn3pV"
      }
    },
    {
      "cell_type": "code",
      "source": [
        "def preprocessing(data):\n",
        "  data = convert_lower_case(data)\n",
        "  data = remove_punctuation(data)\n",
        "  data = remove_single_character(data)\n",
        "  data = remove_stopwords(data)\n",
        "  # stemming\n",
        "  data = praproses_stem(data)\n",
        "  # lemmatization\n",
        "  data = lemmatization(data)\n",
        "  return data"
      ],
      "metadata": {
        "id": "2H5JmsICYOGW"
      },
      "execution_count": null,
      "outputs": []
    },
    {
      "cell_type": "code",
      "source": [
        "def remove_single_character(data):\n",
        "  cleaned_data = []\n",
        "  for dt in data:\n",
        "    words = dt.split()\n",
        "    new_data = \"\"\n",
        "    for word in words:\n",
        "      if len(word) > 1:\n",
        "        new_data = new_data + \" \" + word\n",
        "    cleaned_data.append(new_data)\n",
        "  return cleaned_data"
      ],
      "metadata": {
        "id": "_8fVePtOdyV3"
      },
      "execution_count": null,
      "outputs": []
    },
    {
      "cell_type": "code",
      "source": [
        "def convert_lower_case(data):\n",
        "  return np.char.lower(data)"
      ],
      "metadata": {
        "id": "rTVqQqiVYBRA"
      },
      "execution_count": null,
      "outputs": []
    },
    {
      "cell_type": "code",
      "source": [
        "def remove_punctuation(data):\n",
        "  SYMBOLS = \",!\\\"\\'#$%&()*+-./:;<=>?@[\\]^_`{|}~\\n\"\n",
        "  for s in SYMBOLS:\n",
        "    data = np.char.replace(data, s, '')\n",
        "  return data"
      ],
      "metadata": {
        "id": "TCjGcnNOZypI"
      },
      "execution_count": null,
      "outputs": []
    },
    {
      "cell_type": "code",
      "source": [
        "def remove_stopwords(data):\n",
        "  STOPWORDS = [\n",
        "      'saya', 'ga', 'di', 'mas', 'ya',\n",
        "      'aja', 'nya', 'ini', 'aku', 'ke',\n",
        "      'lu', 'ada', 'pak', 'gw', 'mbak',\n",
        "      'kak', 'gue', 'nih', 'yang', 'dan',\n",
        "      'tapi', 'yg', 'deh', 'gua', 'kk',\n",
        "      'apa', 'kamu', 'lo', 'dong', 'anda',\n",
        "      'hehe', 'kita', 'kau', 'itu', 'woi'\n",
        "      ]\n",
        "  cleaned_data = []\n",
        "  for dt in data:\n",
        "    words = dt.split()\n",
        "    new_data = \"\"\n",
        "    for word in words:\n",
        "      if word not in STOPWORDS:\n",
        "        new_data = new_data + \" \" + word\n",
        "    cleaned_data.append(new_data)\n",
        "  return cleaned_data"
      ],
      "metadata": {
        "id": "N7m1LyB3ibk5"
      },
      "execution_count": null,
      "outputs": []
    },
    {
      "cell_type": "code",
      "source": [
        "!pip install Sastrawi\n",
        "import nltk\n",
        "nltk.download('punkt')\n",
        "nltk.download('wordnet')\n",
        "from nltk.stem import PorterStemmer\n",
        "from Sastrawi.Stemmer.StemmerFactory import StemmerFactory\n",
        "\n",
        "def praproses_stem(data):\n",
        "    cleaned_data = []\n",
        "    factory = StemmerFactory()\n",
        "    stemmer = factory.create_stemmer()\n",
        "\n",
        "    for dt in data:\n",
        "        stemmed_words = [stemmer.stem(word) for word in nltk.word_tokenize(dt)]\n",
        "        stemmed_data = ' '.join(stemmed_words)\n",
        "        cleaned_data.append(stemmed_data)\n",
        "    return cleaned_data"
      ],
      "metadata": {
        "colab": {
          "base_uri": "https://localhost:8080/"
        },
        "id": "ur514g1oppgA",
        "outputId": "3608800d-903d-4860-e605-8118b8f79b5b"
      },
      "execution_count": null,
      "outputs": [
        {
          "output_type": "stream",
          "name": "stdout",
          "text": [
            "Collecting Sastrawi\n",
            "  Downloading Sastrawi-1.0.1-py2.py3-none-any.whl (209 kB)\n",
            "\u001b[?25l     \u001b[90m━━━━━━━━━━━━━━━━━━━━━━━━━━━━━━━━━━━━━━━━\u001b[0m \u001b[32m0.0/209.7 kB\u001b[0m \u001b[31m?\u001b[0m eta \u001b[36m-:--:--\u001b[0m\r\u001b[2K     \u001b[91m━━━━━\u001b[0m\u001b[91m╸\u001b[0m\u001b[90m━━━━━━━━━━━━━━━━━━━━━━━━━━━━━━━━━━\u001b[0m \u001b[32m30.7/209.7 kB\u001b[0m \u001b[31m745.9 kB/s\u001b[0m eta \u001b[36m0:00:01\u001b[0m\r\u001b[2K     \u001b[91m━━━━━━━━━━━━━━━━━━━━━━━━━━━\u001b[0m\u001b[90m╺\u001b[0m\u001b[90m━━━━━━━━━━━━\u001b[0m \u001b[32m143.4/209.7 kB\u001b[0m \u001b[31m2.0 MB/s\u001b[0m eta \u001b[36m0:00:01\u001b[0m\r\u001b[2K     \u001b[90m━━━━━━━━━━━━━━━━━━━━━━━━━━━━━━━━━━━━━━━━\u001b[0m \u001b[32m209.7/209.7 kB\u001b[0m \u001b[31m2.5 MB/s\u001b[0m eta \u001b[36m0:00:00\u001b[0m\n",
            "\u001b[?25hInstalling collected packages: Sastrawi\n",
            "Successfully installed Sastrawi-1.0.1\n"
          ]
        },
        {
          "output_type": "stream",
          "name": "stderr",
          "text": [
            "[nltk_data] Downloading package punkt to /root/nltk_data...\n",
            "[nltk_data]   Unzipping tokenizers/punkt.zip.\n",
            "[nltk_data] Downloading package wordnet to /root/nltk_data...\n"
          ]
        }
      ]
    },
    {
      "cell_type": "code",
      "source": [
        "def lemmatization(data):\n",
        "    cleaned_data = []\n",
        "    for dt in data:\n",
        "        lemmatizer = nltk.WordNetLemmatizer()\n",
        "        cleaned_data.append(' '.join([lemmatizer.lemmatize(word) for word in nltk.word_tokenize(dt)]))\n",
        "    return cleaned_data"
      ],
      "metadata": {
        "id": "uLLti6QcvnS5"
      },
      "execution_count": null,
      "outputs": []
    },
    {
      "cell_type": "code",
      "source": [
        "# Data yang akan diproses\n",
        "data = [\"boleh transfer secukupnya kak\", \"anjing lama kali\", \"apakah anda butuh bantuan lain?\"]\n",
        "\n",
        "# Proses preprocessing data\n",
        "processed_data = preprocessing(data)\n",
        "\n",
        "# Cetak hasil\n",
        "for text in processed_data:\n",
        "    print(text)"
      ],
      "metadata": {
        "colab": {
          "base_uri": "https://localhost:8080/"
        },
        "id": "QL-09-2dzCHU",
        "outputId": "a2b7dd8a-4fb1-4f45-8f9a-131577a0b343"
      },
      "execution_count": null,
      "outputs": [
        {
          "output_type": "stream",
          "name": "stdout",
          "text": [
            "boleh transfer cukup\n",
            "anjing lama kali\n",
            "apakah butuh bantu lain\n"
          ]
        }
      ]
    },
    {
      "cell_type": "code",
      "source": [
        "#from collections import Counter\n",
        "#def count_word_occurence(data):\n",
        "#   text = \" \".join(data)\n",
        "#  words = text.split()\n",
        "#  word_counts = Counter(words)\n",
        "#  sorted_word_counts = word_counts.most_common()\n",
        "#  for word, count in sorted_word_counts:\n",
        "#    print(f\"{word} : {count}\")"
      ],
      "metadata": {
        "id": "CIAvIc-jcB8d"
      },
      "execution_count": null,
      "outputs": []
    },
    {
      "cell_type": "code",
      "source": [
        "def splitting(labels, contents):\n",
        "  # merge label and content\n",
        "  cleaned_dataset = []\n",
        "  for i in range(len(contents)):\n",
        "    data = labels[i] + \" \" + contents[i]\n",
        "    cleaned_dataset.append(data)\n",
        "\n",
        "  # split dataset (train: 80%, valid: 20%)\n",
        "  data_train, data_valid = train_test_split(cleaned_dataset, test_size=0.2, random_state=27)\n",
        "  return data_train, data_valid"
      ],
      "metadata": {
        "id": "FEc92m5KoyI6"
      },
      "execution_count": null,
      "outputs": []
    },
    {
      "cell_type": "code",
      "source": [
        "def get_cleaned_data():\n",
        "  labels, contents = initialization()\n",
        "  contents = preprocessing(contents)\n",
        "  data_train, data_valid = splitting(labels, contents)\n",
        "  return data_train, data_valid"
      ],
      "metadata": {
        "id": "uz33ItCVoXrR"
      },
      "execution_count": null,
      "outputs": []
    },
    {
      "cell_type": "code",
      "source": [
        "data_train, data_valid = get_cleaned_data()"
      ],
      "metadata": {
        "id": "QRY94E6pPJnk"
      },
      "execution_count": null,
      "outputs": []
    },
    {
      "cell_type": "code",
      "source": [
        "print(f\"train data: {len(data_train)}\")\n",
        "print(f\"valid data: {len(data_valid)}\")"
      ],
      "metadata": {
        "colab": {
          "base_uri": "https://localhost:8080/"
        },
        "id": "rfU-q9BVp-sH",
        "outputId": "683ae795-5c89-403b-ec2e-025799128192"
      },
      "execution_count": null,
      "outputs": [
        {
          "output_type": "stream",
          "name": "stdout",
          "text": [
            "train data: 800\n",
            "valid data: 200\n"
          ]
        }
      ]
    },
    {
      "cell_type": "code",
      "source": [
        "TRAINPATH = '/content/data.train'\n",
        "VALIDPATH = '/content/data.valid'"
      ],
      "metadata": {
        "id": "GRB86bxetdd4"
      },
      "execution_count": null,
      "outputs": []
    },
    {
      "cell_type": "code",
      "source": [
        "with open(TRAINPATH, 'w') as f:\n",
        "  for data in data_train:\n",
        "    f.write(data + '\\n')"
      ],
      "metadata": {
        "id": "SbQmAzmNqBC4"
      },
      "execution_count": null,
      "outputs": []
    },
    {
      "cell_type": "code",
      "source": [
        "with open(VALIDPATH, 'w') as f:\n",
        "  for data in data_valid:\n",
        "    f.write(data + '\\n')"
      ],
      "metadata": {
        "id": "YuFXU4dXsoU6"
      },
      "execution_count": null,
      "outputs": []
    },
    {
      "cell_type": "code",
      "source": [
        "# Buat ngefilter stopwords\n",
        "# count_word_occurence(contents)"
      ],
      "metadata": {
        "id": "ok9BkY0ma9VO"
      },
      "execution_count": null,
      "outputs": []
    },
    {
      "cell_type": "markdown",
      "source": [
        "# Membangun model"
      ],
      "metadata": {
        "id": "qqt5ZO8VqUT4"
      }
    },
    {
      "cell_type": "code",
      "source": [
        "!pwd"
      ],
      "metadata": {
        "colab": {
          "base_uri": "https://localhost:8080/"
        },
        "id": "mRc0ZW34sG5W",
        "outputId": "e8d2e4d4-59b4-401b-a7c3-4d74cc609328"
      },
      "execution_count": null,
      "outputs": [
        {
          "output_type": "stream",
          "name": "stdout",
          "text": [
            "/content\n"
          ]
        }
      ]
    },
    {
      "cell_type": "code",
      "source": [
        "'''\n",
        "Hyperparameter / parameter buat fungsi train_supervised()\n",
        "- epoch => berapa kali dataset nya dipake buat ngelatih si model (umumnya semakin tinggi semakin berpotensi overfit)\n",
        "- lr => learning rate => seberapa cepat model belajar (umumnya semakin tinggi semakin berpotensi overfit)\n",
        "- loss => kalau value nya pake 'hs' artinya hierarchical softmax. Intinya sih buat mempercepat proses training model aja\n",
        "- wordNgrams => implementasi Ngrams => bisa ngereduksi overfit\n",
        "- autotuneValidationFile => buat auto tuning hyperparameter ampe dapet yang paling optimal\n",
        "- autotuneDuration => durasi buat auto tuning\n",
        "- bucket =>\n",
        "- dim =>\n",
        "'''\n",
        "model = fasttext.train_supervised(input=TRAINPATH, epoch=10, lr=0.2, wordNgrams=3)"
      ],
      "metadata": {
        "id": "0V63G5LRqXeF"
      },
      "execution_count": null,
      "outputs": []
    },
    {
      "cell_type": "markdown",
      "source": [
        "# Uji coba model"
      ],
      "metadata": {
        "id": "LVQNj8lN1IAK"
      }
    },
    {
      "cell_type": "code",
      "source": [
        "model.test(TRAINPATH)"
      ],
      "metadata": {
        "colab": {
          "base_uri": "https://localhost:8080/"
        },
        "id": "bJ3kMRgGyHXL",
        "outputId": "0da0b5e4-b355-49f4-9e6f-3a1c1f80c635"
      },
      "execution_count": null,
      "outputs": [
        {
          "output_type": "execute_result",
          "data": {
            "text/plain": [
              "(800, 0.8825, 0.8825)"
            ]
          },
          "metadata": {},
          "execution_count": 41
        }
      ]
    },
    {
      "cell_type": "code",
      "source": [
        "model.test(VALIDPATH)\n",
        "\n",
        "# overfit => akurasi train jauh lebih gede dibanding akurasi test\n",
        "# underfit => akurasi train dan test sama2 rendah"
      ],
      "metadata": {
        "colab": {
          "base_uri": "https://localhost:8080/"
        },
        "id": "enzzAMAatCDu",
        "outputId": "4770f37f-1339-4617-86e6-365d711ddf06"
      },
      "execution_count": null,
      "outputs": [
        {
          "output_type": "execute_result",
          "data": {
            "text/plain": [
              "(200, 0.72, 0.72)"
            ]
          },
          "metadata": {},
          "execution_count": 42
        }
      ]
    },
    {
      "cell_type": "code",
      "source": [
        "'''\n",
        "Hyperparameter / parameter buat fungsi predict\n",
        "- k => buat multi class classification. k = -1 artinya predict buat seluruh kelas yang ada\n",
        "- threshold => ambang batas. Semua label dengan probabilitas < threshold ga bakal ditampilin\n",
        "'''\n",
        "\n",
        "model.predict('sedang dimana kak?', k=-1)"
      ],
      "metadata": {
        "colab": {
          "base_uri": "https://localhost:8080/"
        },
        "id": "obOqoHmJsy4e",
        "outputId": "ba6b5508-a65f-48de-c61c-adf422bb90de"
      },
      "execution_count": null,
      "outputs": [
        {
          "output_type": "execute_result",
          "data": {
            "text/plain": [
              "(('__label__none', '__label__sexual', '__label__fraud', '__label__harsh'),\n",
              " array([0.31532931, 0.28220537, 0.22963168, 0.1728736 ]))"
            ]
          },
          "metadata": {},
          "execution_count": 43
        }
      ]
    },
    {
      "cell_type": "code",
      "source": [
        "model.predict('nyampe mana?', k=-1)"
      ],
      "metadata": {
        "colab": {
          "base_uri": "https://localhost:8080/"
        },
        "id": "OrqhPni2s6sg",
        "outputId": "c51f74a9-57f6-450e-fc8f-1322c71048d2"
      },
      "execution_count": null,
      "outputs": [
        {
          "output_type": "execute_result",
          "data": {
            "text/plain": [
              "(('__label__none', '__label__sexual', '__label__harsh', '__label__fraud'),\n",
              " array([0.39694005, 0.22989401, 0.21832456, 0.15488139]))"
            ]
          },
          "metadata": {},
          "execution_count": 44
        }
      ]
    },
    {
      "cell_type": "code",
      "source": [
        "model.predict('woi anjing lu di mana sih? ga nyampe2', k=-1, threshold=0.6)"
      ],
      "metadata": {
        "colab": {
          "base_uri": "https://localhost:8080/"
        },
        "id": "TJquK7Lbs-if",
        "outputId": "7a524246-175d-4156-9cc0-e9bed23a0e41"
      },
      "execution_count": null,
      "outputs": [
        {
          "output_type": "execute_result",
          "data": {
            "text/plain": [
              "(('__label__harsh',), array([0.70123601]))"
            ]
          },
          "metadata": {},
          "execution_count": 45
        }
      ]
    },
    {
      "cell_type": "code",
      "source": [
        "model.predict('kontol banget lu dah', k=-1)"
      ],
      "metadata": {
        "colab": {
          "base_uri": "https://localhost:8080/"
        },
        "id": "ycnv-Ky_zbf7",
        "outputId": "4d05dd46-954d-44ea-f4b2-d33018094696"
      },
      "execution_count": null,
      "outputs": [
        {
          "output_type": "execute_result",
          "data": {
            "text/plain": [
              "(('__label__harsh', '__label__none', '__label__sexual', '__label__fraud'),\n",
              " array([0.31783286, 0.2931008 , 0.27692321, 0.11218314]))"
            ]
          },
          "metadata": {},
          "execution_count": 46
        }
      ]
    },
    {
      "cell_type": "code",
      "source": [
        "model.predict('kamu sexy banget deh hehe', k=-1)"
      ],
      "metadata": {
        "colab": {
          "base_uri": "https://localhost:8080/"
        },
        "id": "lWgz0HA2zDZ9",
        "outputId": "f2ebe649-6798-401f-f5e2-e183bdb5440d"
      },
      "execution_count": null,
      "outputs": [
        {
          "output_type": "execute_result",
          "data": {
            "text/plain": [
              "(('__label__sexual', '__label__none', '__label__fraud', '__label__harsh'),\n",
              " array([0.39946377, 0.23441844, 0.20278849, 0.16336928]))"
            ]
          },
          "metadata": {},
          "execution_count": 47
        }
      ]
    },
    {
      "cell_type": "markdown",
      "source": [
        "# Menyimpan model"
      ],
      "metadata": {
        "id": "00OKxMej2nZF"
      }
    },
    {
      "cell_type": "code",
      "source": [
        "MODELPATH = '/content/model_chat.bin'\n",
        "model.save_model(MODELPATH)"
      ],
      "metadata": {
        "id": "Q9s5kfKR2mY8"
      },
      "execution_count": null,
      "outputs": []
    },
    {
      "cell_type": "code",
      "source": [
        "# Memeriksa ukuran model\n",
        "!ls -lh $MODELPATH"
      ],
      "metadata": {
        "colab": {
          "base_uri": "https://localhost:8080/"
        },
        "id": "hZu93P_G3KqJ",
        "outputId": "764dabd3-89e6-42fb-e294-73e4e7ff044f"
      },
      "execution_count": null,
      "outputs": [
        {
          "output_type": "stream",
          "name": "stdout",
          "text": [
            "-rw-r--r-- 1 root root 764M Oct 16 09:58 /content/model_chat.bin\n"
          ]
        }
      ]
    },
    {
      "cell_type": "markdown",
      "source": [
        "# Model dengan auto-tuning hyperparameter (perlu RAM yang lebih banyak)"
      ],
      "metadata": {
        "id": "98fsXYBS5QL4"
      }
    },
    {
      "cell_type": "code",
      "source": [
        "# Sejauh ini durasi nya cuma bisa 1 menit\n",
        "model = fasttext.train_supervised(input=TRAINPATH, autotuneValidationFile=VALIDPATH, autotuneDuration=60)"
      ],
      "metadata": {
        "id": "5AezEFnY4nPu"
      },
      "execution_count": null,
      "outputs": []
    },
    {
      "cell_type": "code",
      "source": [
        "model.test(TRAINPATH)"
      ],
      "metadata": {
        "colab": {
          "base_uri": "https://localhost:8080/"
        },
        "id": "MvWZ_VF94uBT",
        "outputId": "d1c0a3a3-297d-42d7-8c42-4f2f45dbb8f0"
      },
      "execution_count": null,
      "outputs": [
        {
          "output_type": "execute_result",
          "data": {
            "text/plain": [
              "(800, 0.99875, 0.99875)"
            ]
          },
          "metadata": {},
          "execution_count": 32
        }
      ]
    },
    {
      "cell_type": "code",
      "source": [
        "model.test(VALIDPATH)"
      ],
      "metadata": {
        "colab": {
          "base_uri": "https://localhost:8080/"
        },
        "id": "RNhez0sD4sQH",
        "outputId": "94d661f0-b93f-4f6a-f6bd-966a996ced0d"
      },
      "execution_count": null,
      "outputs": [
        {
          "output_type": "execute_result",
          "data": {
            "text/plain": [
              "(200, 0.915, 0.915)"
            ]
          },
          "metadata": {},
          "execution_count": 33
        }
      ]
    },
    {
      "cell_type": "code",
      "source": [
        "model.predict('nyampe mana?', k=-1)"
      ],
      "metadata": {
        "colab": {
          "base_uri": "https://localhost:8080/"
        },
        "id": "cjS6KqrC5Mau",
        "outputId": "4ee11b39-1c9d-4d28-9aab-7dff637ae694"
      },
      "execution_count": null,
      "outputs": [
        {
          "output_type": "execute_result",
          "data": {
            "text/plain": [
              "(('__label__none', '__label__harsh', '__label__sexual', '__label__fraud'),\n",
              " array([0.52381396, 0.24753724, 0.22505352, 0.00363527]))"
            ]
          },
          "metadata": {},
          "execution_count": 34
        }
      ]
    },
    {
      "cell_type": "code",
      "source": [
        "model.predict('woi anjing lu di mana sih? ga nyampe2', k=-1, threshold=0.6)"
      ],
      "metadata": {
        "colab": {
          "base_uri": "https://localhost:8080/"
        },
        "id": "rJ2VG1KA5OwN",
        "outputId": "8679fe0a-7935-4ad2-f7fb-f88406d13823"
      },
      "execution_count": null,
      "outputs": [
        {
          "output_type": "execute_result",
          "data": {
            "text/plain": [
              "(('__label__harsh',), array([0.98275894]))"
            ]
          },
          "metadata": {},
          "execution_count": 35
        }
      ]
    },
    {
      "cell_type": "code",
      "source": [
        "model.predict('kontol banget lu dah', k=-1)"
      ],
      "metadata": {
        "colab": {
          "base_uri": "https://localhost:8080/"
        },
        "id": "-zMwO4kX5Wpx",
        "outputId": "e796bfb4-84f1-4fe1-c886-ba6105986928"
      },
      "execution_count": null,
      "outputs": [
        {
          "output_type": "execute_result",
          "data": {
            "text/plain": [
              "(('__label__harsh', '__label__sexual', '__label__none', '__label__fraud'),\n",
              " array([8.84318590e-01, 1.13209367e-01, 2.27600336e-03, 2.35964195e-04]))"
            ]
          },
          "metadata": {},
          "execution_count": 36
        }
      ]
    },
    {
      "cell_type": "code",
      "source": [
        "model.predict('kamu sexy banget deh hehe', k=-1)"
      ],
      "metadata": {
        "colab": {
          "base_uri": "https://localhost:8080/"
        },
        "id": "2NBydVzE5ZUL",
        "outputId": "226511a5-b31c-44a7-8374-0295c27ced57"
      },
      "execution_count": null,
      "outputs": [
        {
          "output_type": "execute_result",
          "data": {
            "text/plain": [
              "(('__label__sexual', '__label__harsh', '__label__none', '__label__fraud'),\n",
              " array([0.95761478, 0.02583398, 0.01108626, 0.00550495]))"
            ]
          },
          "metadata": {},
          "execution_count": 37
        }
      ]
    },
    {
      "cell_type": "code",
      "source": [
        "# Perlu dataset lebih gede lagi biar probability nya ningkat\n",
        "model.predict('pagi mas', k=-1)"
      ],
      "metadata": {
        "colab": {
          "base_uri": "https://localhost:8080/"
        },
        "id": "4qFqVe4K7XAa",
        "outputId": "dfd3c8eb-a631-4b22-8ae9-f6a748328ea5"
      },
      "execution_count": null,
      "outputs": [
        {
          "output_type": "execute_result",
          "data": {
            "text/plain": [
              "(('__label__none', '__label__sexual', '__label__harsh', '__label__fraud'),\n",
              " array([9.71013188e-01, 2.76272669e-02, 1.37101149e-03, 2.85055667e-05]))"
            ]
          },
          "metadata": {},
          "execution_count": 38
        }
      ]
    },
    {
      "cell_type": "code",
      "source": [
        "model.predict('selamat siang ka', k=-1)"
      ],
      "metadata": {
        "colab": {
          "base_uri": "https://localhost:8080/"
        },
        "id": "PlBXLX3n7cjN",
        "outputId": "8bb02ca6-ded0-4379-cc21-670cb2676e77"
      },
      "execution_count": null,
      "outputs": [
        {
          "output_type": "execute_result",
          "data": {
            "text/plain": [
              "(('__label__none', '__label__harsh', '__label__sexual', '__label__fraud'),\n",
              " array([9.84597802e-01, 1.46884182e-02, 3.83288512e-04, 3.70558293e-04]))"
            ]
          },
          "metadata": {},
          "execution_count": 39
        }
      ]
    },
    {
      "cell_type": "code",
      "source": [
        "model.predict('terima kasih kak ')"
      ],
      "metadata": {
        "id": "jmAcHFK9-q3Q"
      },
      "execution_count": null,
      "outputs": []
    }
  ]
}